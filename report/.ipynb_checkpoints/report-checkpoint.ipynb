{
 "cells": [
  {
   "cell_type": "markdown",
   "metadata": {},
   "source": [
    "# Course report for DD3436 (implementing `sillymap`)"
   ]
  },
  {
   "cell_type": "markdown",
   "metadata": {},
   "source": [
    "This course consisted of hands-on exercises, implementing and improving a burrows-wheeler short read mapper. To simplify the task, the mapper created here were only able to find the position for exactly matching reads against a single reference sequence, hence the name `sillymap` were chosen."
   ]
  },
  {
   "cell_type": "markdown",
   "metadata": {},
   "source": [
    "The four exercises were as follows:\n",
    "\n",
    "### Excercise 1:\n",
    "A repository on Github with a Readme, license and setup.py. The program itself only prints a friendly message. Bonus: Travis CI.\n",
    "\n",
    "### Exercise 2:\n",
    "A release on github where the program can map a few exactly matching short reads against a longer sequence, using the burrows wheeler transform and the FM-index (http://alexbowe.com/fm-index/) where rank can be stored as the table Occ in (https://en.wikipedia.org/wiki/FM-index). This assignment should include a test suite.\n",
    "\n",
    "### Exercise 3:\n",
    "Using the test suite for assignment 2, modify the code to make it run faster/more efficiently. Create two versions:\n",
    " 1. Make it run with pypy.\n",
    " 2. Using numpy, scipy or other libraries to speed up the code.\n",
    "\n",
    "Both scripts should pass integration tests in Travis.\n",
    "\n",
    "Make a report explaining the optimizations and the improvements.\n",
    "\n",
    "### Exercise 4:\n",
    "Parallelize the code using both:\n",
    " 1. Multiple cores on one computer.\n",
    " 2. Using multiple computers (MPI).\n",
    "\n",
    "Make a report explaining the optimizations and the improvements."
   ]
  },
  {
   "cell_type": "markdown",
   "metadata": {},
   "source": [
    "## Exercise 1\n",
    "The repository was created and released as assignment 1 on [github](https://github.com/alneberg/sillymap/releases).\n",
    "\n",
    "The basic structure of the repository was constructed for this exercise with one subdirectory for the main source code (which was only an `__init__.py` file at this point and one subdirectory containing only the executable. The executable which can be seen below printed the intended outcome for the two main methods of `sillymap` but did not do anything."
   ]
  },
  {
   "cell_type": "raw",
   "metadata": {},
   "source": [
    "#!/usr/bin/env python\n",
    "\n",
    "import sillymap\n",
    "import argparse\n",
    "\n",
    "def main(args):\n",
    "    if args.action == \"index\":\n",
    "        print(\"This should index your input fasta\")\n",
    "    elif args.action == \"map\":\n",
    "        print(\"This should map your sequences against an index\")\n",
    "    else:\n",
    "        print(\"No proper argument given\")\n",
    "\n",
    "if __name__ == \"__main__\":\n",
    "    parser = argparse.ArgumentParser(description=__doc__)\n",
    "    parser.add_argument(\"action\", choices=[\"index\", \"map\"])\n",
    "    args = parser.parse_args()\n",
    "    main(args)"
   ]
  },
  {
   "cell_type": "markdown",
   "metadata": {},
   "source": [
    "To complete the package and to make it installable, a `setup.py` file was created. This enabled the package to be installed by running `python setup.py install` and that would also make the executable `sillymap` available to the user. "
   ]
  },
  {
   "cell_type": "markdown",
   "metadata": {},
   "source": [
    "## Exercise 2\n",
    "For this exercise, a first working version of the program was constructed and completed with a test suite. I created the test suite after the implementation as I've found it much faster to implement afterwards. It's also, in my opinion, more useful in the case of a refactoring rather than during the first implementation. The first implementation was written without much thought on efficiency. For example the burrows wheeler transform was calculated accordingly:"
   ]
  },
  {
   "cell_type": "raw",
   "metadata": {},
   "source": [
    "def burrows_wheeler(text):\n",
    "    \"\"\"Calculates the burrows wheeler transform of <text>.\n",
    "    returns the burrows wheeler string and the suffix array indices\n",
    "    The text is assumed to not contain the character $\"\"\"\n",
    "\n",
    "    text += \"$\"\n",
    "    all_permutations = []\n",
    "    for i in range(len(text)):\n",
    "        all_permutations.append((text[i:] + text[:i],i))\n",
    "\n",
    "    all_permutations.sort()\n",
    "    bw_l = [] # burrows wheeler as list\n",
    "    sa_i = [] # suffix array indices\n",
    "\n",
    "    for w,j in all_permutations:\n",
    "        bw_l.append(w[-1])\n",
    "        sa_i.append(j)\n",
    "\n",
    "    return \"\".join(bw_l), sa_i"
   ]
  },
  {
   "cell_type": "markdown",
   "metadata": {},
   "source": [
    "I think it was a good idea to do it this way first, to keep the code as simple as possible when the main focus was to make it work at all."
   ]
  },
  {
   "cell_type": "markdown",
   "metadata": {},
   "source": [
    "The test cases were split up into unit tests and integration tests. The unit tests checked edge cases and normal cases for individual functions such as the `burrows_wheeler` transform shown above. The integration tests simulated a run with a reference file and a set of very few reads. These tests were automated to be run on Travis using the settings file:"
   ]
  },
  {
   "cell_type": "raw",
   "metadata": {},
   "source": [
    "language: python\n",
    "python:\n",
    "  - \"3.6\"\n",
    "# command to install dependencies\n",
    "before_install:\n",
    "   #Uses miniconda installation of scientific python packages instead of building from source\n",
    "   #or using old versions supplied by apt-get. Source: https://gist.github.com/dan-blanchard/7045057\n",
    "   - wget http://repo.continuum.io/miniconda/Miniconda3-latest-Linux-x86_64.sh -O miniconda.sh\n",
    "   - chmod +x miniconda.sh\n",
    "   - ./miniconda.sh -b\n",
    "   - export PATH=/home/travis/miniconda3/bin:$PATH\n",
    "   - conda update --yes conda\n",
    "   - sudo apt-get update -qq\n",
    "install:\n",
    "   - python setup.py install\n",
    "# command to run tests\n",
    "script:\n",
    "   - python -m unittest tests/unit.py\n",
    "   - python -m unittest tests/integration.py\n",
    "branches:\n",
    "  only:\n",
    "    - master"
   ]
  },
  {
   "cell_type": "markdown",
   "metadata": {},
   "source": [
    "## Exercise 3\n",
    "I created several reference sequences of different sizes and generated perfect reads from these to use as test data. When trying to index a 1M long sequence with the first version of the code, my laptop crashed and indeed, the memory usage was higher than 128G. Using [memory profiler](https://pypi.python.org/pypi/memory_profiler) I identified one bottleneck in the `burrows_wheeler` method shown above. The list `all_permutations` will store a full length sequence for every position within the input sequence, which is obviously quadratic in memory. On top of this, the default sort method seemed slightly waistful of memory.\n",
    "\n",
    "To avoid creating all of the suffices, they were instead compared using the first 10 bases in most cases during the sorting, except when the first ten bases were identical between two suffices, when the complete suffices were extracted and compared. This is shown in the code below:"
   ]
  },
  {
   "cell_type": "raw",
   "metadata": {},
   "source": [
    "class SubString(object):\n",
    "    # Class written by @MSeifert:\n",
    "    # https://stackoverflow.com/a/41669542\n",
    "    # slots reduce the memory overhead of the instances\n",
    "    __slots__ = ('str_', 'idx', 'str_len')\n",
    "\n",
    "    def __init__(self, str_, idx, str_len):\n",
    "        self.str_ = str_\n",
    "        self.idx = idx\n",
    "        self.str_len = str_len\n",
    "\n",
    "    # sorted only requires \"<\" to be implemented so we only need __lt__\n",
    "    def __lt__(self, other):\n",
    "        # temporarly create explicit substrings but only temporaries for the comparison\n",
    "        #Optimized case to speed things up\n",
    "        if self.idx + 10 < self.str_len and other.idx + 10 < self.str_len:\n",
    "            if self.str_[self.idx:self.idx+10] < other.str_[other.idx:other.idx+10]:\n",
    "                return True\n",
    "            elif self.str_[self.idx:self.idx+10] > other.str_[other.idx:other.idx+10]:\n",
    "                return False\n",
    "        # this is the general case\n",
    "        return self.str_[self.idx:] + self.str_[:self.idx] < other.str_[other.idx:] + other.str_[:other.idx]\n",
    "\n",
    "    def __repr__(self):\n",
    "        return self.idx\n",
    "\n",
    "def burrows_wheeler(text):\n",
    "    \"\"\"Calculates the burrows wheeler transform of <text>.\n",
    "    returns the burrows wheeler string and the suffix array indices\n",
    "    The text is assumed to not contain the character $\"\"\"\n",
    "\n",
    "    text += \"$\"\n",
    "\n",
    "    text_len = len(text)\n",
    "    # suffix arrau indices\n",
    "    sa_i = list(range(text_len))\n",
    "    sa_i.sort(key=lambda i: SubString(text, i, text_len))\n",
    "\n",
    "    # burrows wheeler as list\n",
    "    bw_l = [text[i-1] for i in sa_i]\n",
    "\n",
    "    return \"\".join(bw_l), sa_i"
   ]
  },
  {
   "cell_type": "code",
   "execution_count": 1,
   "metadata": {
    "collapsed": true
   },
   "outputs": [],
   "source": [
    "import matplotlib\n",
    "%matplotlib inline"
   ]
  },
  {
   "cell_type": "code",
   "execution_count": null,
   "metadata": {
    "collapsed": true
   },
   "outputs": [],
   "source": []
  }
 ],
 "metadata": {
  "kernelspec": {
   "display_name": "Python 3",
   "language": "python",
   "name": "python3"
  },
  "language_info": {
   "codemirror_mode": {
    "name": "ipython",
    "version": 3
   },
   "file_extension": ".py",
   "mimetype": "text/x-python",
   "name": "python",
   "nbconvert_exporter": "python",
   "pygments_lexer": "ipython3",
   "version": "3.5.1"
  }
 },
 "nbformat": 4,
 "nbformat_minor": 0
}
